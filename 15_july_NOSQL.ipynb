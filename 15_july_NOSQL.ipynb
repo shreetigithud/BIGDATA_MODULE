{
 "cells": [
  {
   "cell_type": "markdown",
   "id": "a0efaa7e",
   "metadata": {},
   "source": [
    "# 1. NoSQL Databases:\n",
    "   a. Write a Python program that connects to a MongoDB database and inserts a new document into a collection named \"students\". The document should include fields such as \"name\", \"age\", and \"grade\". Print a success message after the insertion.\n",
    "   b. Implement a Python function that connects to a Cassandra database and inserts a new record into a table named \"products\". The record should contain fields like \"id\", \"name\", and \"price\". Handle any potential errors that may occur during the insertion.\n"
   ]
  },
  {
   "cell_type": "code",
   "execution_count": null,
   "id": "af6215ff",
   "metadata": {},
   "outputs": [],
   "source": [
    "from cassandra.cluster import Cluster\n",
    "from cassandra.auth import PlainTextAuthProvider\n",
    "\n",
    "def insert_product(id, name, price):\n",
    "    try:\n",
    "        # Connect to Cassandra\n",
    "        cloud_config = {\n",
    "            'secure_connect_bundle': '/path/to/secure-connect-database.zip'\n",
    "        }\n",
    "        auth_provider = PlainTextAuthProvider('username', 'password')\n",
    "        cluster = Cluster(cloud=cloud_config, auth_provider=auth_provider)\n",
    "        session = cluster.connect()\n",
    "\n",
    "        # Insert a new record\n",
    "        insert_query = \"INSERT INTO products (id, name, price) VALUES (%s, %s, %s)\"\n",
    "        session.execute(insert_query, (id, name, price))\n",
    "\n",
    "        # Close the connection\n",
    "        session.shutdown()\n",
    "        cluster.shutdown()\n",
    "\n",
    "        # Print success message\n",
    "        print(\"Record inserted successfully.\")\n",
    "    except Exception as e:\n",
    "        print(\"Error occurred:\", e)\n",
    "\n",
    "# Usage example\n",
    "insert_product(1, 'Product A', 9.99)\n"
   ]
  },
  {
   "cell_type": "markdown",
   "id": "f8096c91",
   "metadata": {},
   "source": [
    "# 2. Document-oriented NoSQL Databases:\n",
    "   a. Given a MongoDB collection named \"books\", write a Python function that fetches all the books published in the last year and prints their titles and authors.\n",
    "   b. Design a schema for a document-oriented NoSQL database to store customer information for an e-commerce platform. Write a Python program to insert a new customer document into the database and handle any necessary validations.\n",
    "\n"
   ]
  },
  {
   "cell_type": "code",
   "execution_count": null,
   "id": "335da9ae",
   "metadata": {},
   "outputs": [],
   "source": [
    "from pymongo import MongoClient\n",
    "\n",
    "def insert_customer(customer_data):\n",
    "    # Connect to MongoDB\n",
    "    client = MongoClient('mongodb://localhost:27017/')\n",
    "    database = client['mydatabase']\n",
    "    collection = database['customers']\n",
    "\n",
    "    # Insert the customer document\n",
    "    collection.insert_one(customer_data)\n",
    "\n",
    "    # Close the connection\n",
    "    client.close()\n",
    "\n",
    "# Usage example\n",
    "customer = {\n",
    "    \"name\": \"John Doe\",\n",
    "    \"email\": \"johndoe@example.com\",\n",
    "    \"address\": \"123 Main St\",\n",
    "    \"city\": \"New York\",\n",
    "    \"country\": \"USA\",\n",
    "    \"phone\": \"+1 123-456-7890\"\n",
    "}\n",
    "insert_customer(customer)\n"
   ]
  },
  {
   "cell_type": "markdown",
   "id": "e772aa73",
   "metadata": {},
   "source": [
    "# 3. High Availability and Fault Tolerance:\n",
    "   a. Explain the concept of replica sets in MongoDB. Write a Python program that connects to a MongoDB replica set and retrieves the status of the primary and secondary nodes.\n",
    "   b. Describe how Cassandra ensures high availability and fault tolerance in a distributed database system. Write a Python program that connects to a Cassandra cluster and fetches the status of the nodes\n"
   ]
  },
  {
   "cell_type": "code",
   "execution_count": null,
   "id": "a7b79c19",
   "metadata": {},
   "outputs": [],
   "source": [
    "from pymongo import MongoClient\n",
    "\n",
    "def get_replica_set_status():\n",
    "    # Connect to the MongoDB replica set\n",
    "    client = MongoClient('mongodb://localhost:27017/',\n",
    "                         replicaSet='myreplicaset')\n",
    "\n",
    "    # Get the status of the replica set\n",
    "    status = client.admin.command('replSetGetStatus')\n",
    "\n",
    "    # Print the status of each member\n",
    "    for member in status['members']:\n",
    "        print(\"Node ID:\", member['_id'])\n",
    "        print(\"Host:\", member['name'])\n",
    "        print(\"State:\", member['stateStr'])\n",
    "        print()\n",
    "\n",
    "    # Close the connection\n",
    "    client.close()\n",
    "\n",
    "# Usage example\n",
    "get_replica_set_status()\n"
   ]
  },
  {
   "cell_type": "markdown",
   "id": "6d30c748",
   "metadata": {},
   "source": [
    "# 4. Sharding in MongoDB:\n",
    "   a. Explain the concept of sharding in MongoDB and how it improves performance and scalability. Write a Python program that sets up sharding for a MongoDB cluster and inserts multiple documents into a sharded collection.\n",
    "   b. Design a sharding strategy for a social media application where user data needs to be distributed across multiple shards. Write a Python program to demonstrate how data is distributed and retrieved from the sharded cluster.\n"
   ]
  },
  {
   "cell_type": "code",
   "execution_count": null,
   "id": "aa541cd0",
   "metadata": {},
   "outputs": [],
   "source": [
    "from pymongo import MongoClient\n",
    "\n",
    "def setup_sharding():\n",
    "    # Connect to the MongoDB cluster via the `mongos` process\n",
    "    client = MongoClient('mongodb://localhost:27017/')\n",
    "    admin_db = client.admin\n",
    "\n",
    "    # Enable sharding for the cluster\n",
    "    admin_db.command(\"enableSharding\", \"mydatabase\")\n",
    "\n",
    "    # Create a sharded collection with a shard key\n",
    "    admin_db.command(\"shardCollection\", \"mydatabase.mycollection\", key={\"_id\": \"hashed\"})\n",
    "\n",
    "    # Insert multiple documents into the sharded collection\n",
    "    db = client.mydatabase\n",
    "    collection = db.mycollection\n",
    "\n",
    "    documents = [\n",
    "        {\"_id\": 1, \"name\": \"John\"},\n",
    "        {\"_id\": 2, \"name\": \"Jane\"},\n",
    "        {\"_id\": 3, \"name\": \"Alice\"},\n",
    "        {\"_id\": 4, \"name\": \"Bob\"},\n",
    "    ]\n",
    "\n",
    "    collection.insert_many(documents)\n",
    "\n",
    "    # Close the connection\n",
    "    client.close()\n",
    "\n",
    "# Usage example\n",
    "setup_sharding()\n"
   ]
  },
  {
   "cell_type": "markdown",
   "id": "90112943",
   "metadata": {},
   "source": [
    "# 5. Indexing in MongoDB:\n",
    "   a. Describe the concept of indexing in MongoDB and its importance in query optimization. Write a Python program that creates an index on a specific field in a MongoDB collection and executes a query using that index.\n",
    "   b. Given a MongoDB collection named \"products\", write a Python function that searches for products with a specific keyword in the name or description. Optimize the query by adding appropriate indexes.\n",
    "\n"
   ]
  },
  {
   "cell_type": "code",
   "execution_count": null,
   "id": "fd4beeb4",
   "metadata": {},
   "outputs": [],
   "source": [
    "from pymongo import MongoClient\n",
    "\n",
    "def search_products(keyword):\n",
    "    # Connect to MongoDB\n",
    "    client = MongoClient('mongodb://localhost:27017/')\n",
    "    database = client['mydatabase']\n",
    "    collection = database['products']\n",
    "\n",
    "    # Create indexes on the \"name\" and \"description\" fields\n",
    "    collection.create_index(\"name\")\n",
    "    collection.create_index(\"description\")\n",
    "\n",
    "    # Execute the query with the keyword\n",
    "    query = {\n",
    "        \"$or\": [\n",
    "            {\"name\": {\"$regex\": keyword, \"$options\": \"i\"}},\n",
    "            {\"description\": {\"$regex\": keyword, \"$options\": \"i\"}}\n",
    "        ]\n",
    "    }\n",
    "    result = collection.find(query)\n",
    "\n",
    "    # Print the query results\n",
    "    for doc in result:\n",
    "        print(doc)\n",
    "\n",
    "    # Close the connection\n",
    "    client.close()\n",
    "\n",
    "# Usage example\n",
    "search_products(\"phone\")\n"
   ]
  },
  {
   "cell_type": "code",
   "execution_count": null,
   "id": "6ce4401b",
   "metadata": {},
   "outputs": [],
   "source": []
  }
 ],
 "metadata": {
  "kernelspec": {
   "display_name": "Python 3 (ipykernel)",
   "language": "python",
   "name": "python3"
  },
  "language_info": {
   "codemirror_mode": {
    "name": "ipython",
    "version": 3
   },
   "file_extension": ".py",
   "mimetype": "text/x-python",
   "name": "python",
   "nbconvert_exporter": "python",
   "pygments_lexer": "ipython3",
   "version": "3.10.9"
  }
 },
 "nbformat": 4,
 "nbformat_minor": 5
}
