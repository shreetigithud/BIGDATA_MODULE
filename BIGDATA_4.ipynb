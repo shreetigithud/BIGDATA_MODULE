{
 "cells": [
  {
   "cell_type": "markdown",
   "id": "56fc53a3",
   "metadata": {},
   "source": [
    "# 1.  Write a Python program that uses the HiveQL language to create a table named \"Employees\" with columns for \"id,\" \"name,\" and \"salary.\"\n"
   ]
  },
  {
   "cell_type": "code",
   "execution_count": null,
   "id": "32a9b463",
   "metadata": {},
   "outputs": [],
   "source": [
    "from pyhive import hive\n",
    "\n",
    "def create_employees_table():\n",
    "    # Connect to Hive server\n",
    "    conn = hive.Connection(host='localhost', port=10000, username='your_username')\n",
    "\n",
    "    # Create the Employees table\n",
    "    create_table_query = \"\"\"\n",
    "    CREATE TABLE Employees (\n",
    "        id INT,\n",
    "        name STRING,\n",
    "        salary FLOAT\n",
    "    )\n",
    "    \"\"\"\n",
    "    cursor = conn.cursor()\n",
    "    cursor.execute(create_table_query)\n",
    "    print(\"Employees table created successfully.\")\n",
    "\n",
    "    # Close the connection\n",
    "    cursor.close()\n",
    "    conn.close()\n",
    "\n",
    "# Call the function to create the Employees table\n",
    "create_employees_table()\n"
   ]
  },
  {
   "cell_type": "markdown",
   "id": "71aace37",
   "metadata": {},
   "source": [
    "# 2.  Create a Python program that retrieves records from a Hive table named \"Customers\" where the age is greater than 30.\n"
   ]
  },
  {
   "cell_type": "code",
   "execution_count": null,
   "id": "b5aedce7",
   "metadata": {},
   "outputs": [],
   "source": [
    "from pyhive import hive\n",
    "\n",
    "def retrieve_customers_records():\n",
    "    # Connect to Hive server\n",
    "    conn = hive.Connection(host='localhost', port=10000, username='your_username')\n",
    "\n",
    "    # Retrieve records where age is greater than 30\n",
    "    retrieve_query = \"\"\"\n",
    "    SELECT *\n",
    "    FROM Customers\n",
    "    WHERE age > 30\n",
    "    \"\"\"\n",
    "    cursor = conn.cursor()\n",
    "    cursor.execute(retrieve_query)\n",
    "\n",
    "    # Fetch and print the retrieved records\n",
    "    records = cursor.fetchall()\n",
    "    for record in records:\n",
    "        print(record)\n",
    "\n",
    "    # Close the connection\n",
    "    cursor.close()\n",
    "    conn.close()\n",
    "\n",
    "# Call the function to retrieve customer records\n",
    "retrieve_customers_records()\n"
   ]
  },
  {
   "cell_type": "markdown",
   "id": "1e928a84",
   "metadata": {},
   "source": [
    "# 3.  Write a Python script that sorts records in descending order based on the \"timestamp\" column in a Hive table named \"Logs.\""
   ]
  },
  {
   "cell_type": "code",
   "execution_count": null,
   "id": "1f401686",
   "metadata": {},
   "outputs": [],
   "source": [
    "from pyhive import hive\n",
    "\n",
    "def sort_logs_by_timestamp():\n",
    "    # Connect to Hive server\n",
    "    conn = hive.Connection(host='localhost', port=10000, username='your_username')\n",
    "\n",
    "    # Sort records in descending order based on timestamp\n",
    "    sort_query = \"\"\"\n",
    "    SELECT *\n",
    "    FROM Logs\n",
    "    ORDER BY timestamp DESC\n",
    "    \"\"\"\n",
    "    cursor = conn.cursor()\n",
    "    cursor.execute(sort_query)\n",
    "\n",
    "    # Fetch and print the sorted records\n",
    "    sorted_records = cursor.fetchall()\n",
    "    for record in sorted_records:\n",
    "        print(record)\n",
    "\n",
    "    # Close the connection\n",
    "    cursor.close()\n",
    "    conn.close()\n",
    "\n",
    "# Call the function to sort logs by timestamp\n",
    "sort_logs_by_timestamp()\n"
   ]
  },
  {
   "cell_type": "markdown",
   "id": "f9d6cfb8",
   "metadata": {},
   "source": [
    "# 4.  Write a Python program that connects to a Hive server using PyHive library and retrieves all records from a table named \"Products\".\n"
   ]
  },
  {
   "cell_type": "code",
   "execution_count": null,
   "id": "35e8891d",
   "metadata": {},
   "outputs": [],
   "source": [
    "from pyhive import hive\n",
    "\n",
    "def retrieve_all_products():\n",
    "    # Connect to Hive server\n",
    "    conn = hive.Connection(host='localhost', port=10000, username='your_username')\n",
    "\n",
    "    # Retrieve all records from the \"Products\" table\n",
    "    retrieve_query = \"SELECT * FROM Products\"\n",
    "    cursor = conn.cursor()\n",
    "    cursor.execute(retrieve_query)\n",
    "\n",
    "    # Fetch and print all retrieved records\n",
    "    records = cursor.fetchall()\n",
    "    for record in records:\n",
    "        print(record)\n",
    "\n",
    "    # Close the connection\n",
    "    cursor.close()\n",
    "    conn.close()\n",
    "\n",
    "# Call the function to retrieve all products\n",
    "retrieve_all_products()\n"
   ]
  },
  {
   "cell_type": "markdown",
   "id": "7a065639",
   "metadata": {},
   "source": [
    "# 5.  Write a Python script that calculates the average salary of employees from a Hive table named \"Employees\".\n"
   ]
  },
  {
   "cell_type": "code",
   "execution_count": null,
   "id": "355619eb",
   "metadata": {},
   "outputs": [],
   "source": [
    "from pyhive import hive\n",
    "\n",
    "def calculate_average_salary():\n",
    "    # Connect to Hive server\n",
    "    conn = hive.Connection(host='localhost', port=10000, username='your_username')\n",
    "\n",
    "    # Calculate the average salary from the \"Employees\" table\n",
    "    average_query = \"SELECT AVG(salary) FROM Employees\"\n",
    "    cursor = conn.cursor()\n",
    "    cursor.execute(average_query)\n",
    "\n",
    "    # Fetch and print the average salary\n",
    "    average_salary = cursor.fetchone()[0]\n",
    "    print(f\"Average Salary: {average_salary}\")\n",
    "\n",
    "    # Close the connection\n",
    "    cursor.close()\n",
    "    conn.close()\n",
    "\n",
    "# Call the function to calculate the average salary\n",
    "calculate_average_salary()\n"
   ]
  },
  {
   "cell_type": "markdown",
   "id": "14ca71f0",
   "metadata": {},
   "source": [
    "# 6.  Implement a Python program that uses Hive partitioning to create a partitioned table named \"Sales_Data\" based on the \"year\" and \"month\" columns.\n"
   ]
  },
  {
   "cell_type": "code",
   "execution_count": null,
   "id": "e54b6a28",
   "metadata": {},
   "outputs": [],
   "source": [
    "from pyhive import hive\n",
    "\n",
    "def create_partitioned_table():\n",
    "    # Connect to Hive server\n",
    "    conn = hive.Connection(host='localhost', port=10000, username='your_username')\n",
    "\n",
    "    # Create the partitioned \"Sales_Data\" table\n",
    "    create_table_query = \"\"\"\n",
    "    CREATE TABLE Sales_Data (\n",
    "        -- Columns\n",
    "        col1 INT,\n",
    "        col2 STRING,\n",
    "        ...\n",
    "        colN FLOAT\n",
    "    )\n",
    "    PARTITIONED BY (year INT, month INT)\n",
    "    \"\"\"\n",
    "    cursor = conn.cursor()\n",
    "    cursor.execute(create_table_query)\n",
    "    print(\"Partitioned table 'Sales_Data' created successfully.\")\n",
    "\n",
    "    # Close the connection\n",
    "    cursor.close()\n",
    "    conn.close()\n",
    "\n",
    "# Call the function to create the partitioned table\n",
    "create_partitioned_table()\n",
    "``\n"
   ]
  },
  {
   "cell_type": "markdown",
   "id": "9a389262",
   "metadata": {},
   "source": [
    "# 7.  Develop a Python script that adds a new column named \"email\" of type string to an existing Hive table named \"Employees.\"\n"
   ]
  },
  {
   "cell_type": "code",
   "execution_count": null,
   "id": "42ce0af6",
   "metadata": {},
   "outputs": [],
   "source": [
    "from pyhive import hive\n",
    "\n",
    "def add_email_column():\n",
    "    # Connect to Hive server\n",
    "    conn = hive.Connection(host='localhost', port=10000, username='your_username')\n",
    "\n",
    "    # Add the \"email\" column to the \"Employees\" table\n",
    "    add_column_query = \"ALTER TABLE Employees ADD COLUMNS (email STRING)\"\n",
    "    cursor = conn.cursor()\n",
    "    cursor.execute(add_column_query)\n",
    "    print(\"Column 'email' added to the table 'Employees' successfully.\")\n",
    "\n",
    "    # Close the connection\n",
    "    cursor.close()\n",
    "    conn.close()\n",
    "\n",
    "# Call the function to add the \"email\" column\n",
    "add_email_column()\n"
   ]
  },
  {
   "cell_type": "markdown",
   "id": "102e0883",
   "metadata": {},
   "source": [
    "# 8.  Create a Python program that performs an inner join between two Hive tables, \"Orders\" and \"Customers,\" based on a common column.\n"
   ]
  },
  {
   "cell_type": "code",
   "execution_count": null,
   "id": "61397ed9",
   "metadata": {},
   "outputs": [],
   "source": [
    "from pyhive import hive\n",
    "\n",
    "def perform_inner_join():\n",
    "    # Connect to Hive server\n",
    "    conn = hive.Connection(host='localhost', port=10000, username='your_username')\n",
    "\n",
    "    # Perform inner join between \"Orders\" and \"Customers\" tables\n",
    "    join_query = \"\"\"\n",
    "    SELECT *\n",
    "    FROM Orders\n",
    "    INNER JOIN Customers ON Orders.customer_id = Customers.customer_id\n",
    "    \"\"\"\n",
    "    cursor = conn.cursor()\n",
    "    cursor.execute(join_query)\n",
    "\n",
    "    # Fetch and print the joined records\n",
    "    joined_records = cursor.fetchall()\n",
    "    for record in joined_records:\n",
    "        print(record)\n",
    "\n",
    "    # Close the connection\n",
    "    cursor.close()\n",
    "    conn.close()\n",
    "\n",
    "# Call the function to perform the inner join\n",
    "perform_inner_join()\n"
   ]
  },
  {
   "cell_type": "markdown",
   "id": "75e0a5a6",
   "metadata": {},
   "source": [
    "# 9.  Implement a Python program that uses the Hive SerDe library to process JSON data stored in a Hive table named \"User_Activity_Logs.\"\n"
   ]
  },
  {
   "cell_type": "code",
   "execution_count": null,
   "id": "b18d4168",
   "metadata": {},
   "outputs": [],
   "source": [
    "from pyhive import hive\n",
    "\n",
    "def process_json_data():\n",
    "    # Connect to Hive server\n",
    "    conn = hive.Connection(host='localhost', port=10000, username='your_username')\n",
    "\n",
    "    # Enable Hive SerDe library\n",
    "    enable_serde_query = \"SET hive.json.serialization.extend.nesting.levels=100\"\n",
    "    cursor = conn.cursor()\n",
    "    cursor.execute(enable_serde_query)\n",
    "\n",
    "    # Process JSON data from \"User_Activity_Logs\" table\n",
    "    process_query = \"SELECT * FROM User_Activity_Logs\"\n",
    "    cursor.execute(process_query)\n",
    "\n",
    "    # Fetch and print the processed data\n",
    "    processed_data = cursor.fetchall()\n",
    "    for record in processed_data:\n",
    "        print(record)\n",
    "\n",
    "    # Close the connection\n",
    "    cursor.close()\n",
    "    conn.close()\n",
    "\n",
    "# Call the function to process JSON data\n",
    "process_json_data()\n"
   ]
  }
 ],
 "metadata": {
  "kernelspec": {
   "display_name": "Python 3 (ipykernel)",
   "language": "python",
   "name": "python3"
  },
  "language_info": {
   "codemirror_mode": {
    "name": "ipython",
    "version": 3
   },
   "file_extension": ".py",
   "mimetype": "text/x-python",
   "name": "python",
   "nbconvert_exporter": "python",
   "pygments_lexer": "ipython3",
   "version": "3.10.9"
  }
 },
 "nbformat": 4,
 "nbformat_minor": 5
}
