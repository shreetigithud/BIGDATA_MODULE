{
 "cells": [
  {
   "cell_type": "code",
   "execution_count": null,
   "id": "6e6d847c",
   "metadata": {},
   "outputs": [],
   "source": [
    "#Write an SQL query to retrieve the names and email addresses of all employees from a table named \"Employees\"."
   ]
  },
  {
   "cell_type": "code",
   "execution_count": null,
   "id": "aa89b35e",
   "metadata": {},
   "outputs": [],
   "source": [
    "SELECT name, email\n",
    "FROM Employees;\n"
   ]
  },
  {
   "cell_type": "code",
   "execution_count": null,
   "id": "ba32dfea",
   "metadata": {},
   "outputs": [],
   "source": [
    "#2. Write an SQL query to filter records from a table named \"Customers\" where the \"City\" column is 'New York'.\n"
   ]
  },
  {
   "cell_type": "code",
   "execution_count": null,
   "id": "2e894762",
   "metadata": {},
   "outputs": [],
   "source": [
    "SELECT *\n",
    "FROM Customers\n",
    "WHERE City = 'New York';\n"
   ]
  },
  {
   "cell_type": "code",
   "execution_count": null,
   "id": "c9ba0cd2",
   "metadata": {},
   "outputs": [],
   "source": [
    "#3.  Write an SQL query to sort records in descending order based on the \"DateOfBirth\" column in a table named \"Users\""
   ]
  },
  {
   "cell_type": "code",
   "execution_count": null,
   "id": "74d050be",
   "metadata": {},
   "outputs": [],
   "source": [
    "SELECT *\n",
    "FROM Users\n",
    "ORDER BY DateOfBirth DESC;\n"
   ]
  },
  {
   "cell_type": "code",
   "execution_count": null,
   "id": "b2606e63",
   "metadata": {},
   "outputs": [],
   "source": [
    "# 4. Write an SQL query to sort records in ascending order based on the \"RegistrationDate\" column in a table named \"Users\"."
   ]
  },
  {
   "cell_type": "code",
   "execution_count": null,
   "id": "4e8f4266",
   "metadata": {},
   "outputs": [],
   "source": [
    "SELECT *\n",
    "FROM Users\n",
    "ORDER BY RegistrationDate ASC;\n"
   ]
  },
  {
   "cell_type": "code",
   "execution_count": null,
   "id": "00593aca",
   "metadata": {},
   "outputs": [],
   "source": [
    "#5. Write an SQL query to find the employee with the highest salary from a table named \"Employees\" and display their name, position, and salary.\n"
   ]
  },
  {
   "cell_type": "code",
   "execution_count": null,
   "id": "58f11809",
   "metadata": {},
   "outputs": [],
   "source": [
    "SELECT name, position, salary\n",
    "FROM Employees\n",
    "WHERE salary = (SELECT MAX(salary) FROM Employees);\n"
   ]
  },
  {
   "cell_type": "code",
   "execution_count": null,
   "id": "bc870eb6",
   "metadata": {},
   "outputs": [],
   "source": [
    "6. Write an SQL query to retrieve records from a table named \"Customers\" where the \"Phone\" column matches the pattern '+1-XXX-XXX-XXXX'.\n"
   ]
  },
  {
   "cell_type": "code",
   "execution_count": null,
   "id": "b0475553",
   "metadata": {},
   "outputs": [],
   "source": [
    "SELECT *\n",
    "FROM Customers\n",
    "WHERE Phone LIKE '+1-___-___-____';\n"
   ]
  },
  {
   "cell_type": "code",
   "execution_count": null,
   "id": "3debbbe1",
   "metadata": {},
   "outputs": [],
   "source": [
    "7. Write an SQL query to retrieve the top 5 customers with the highest total purchase amount from a table named \"Orders\" and display their names and total purchase amounts.\n"
   ]
  },
  {
   "cell_type": "code",
   "execution_count": null,
   "id": "ad8d0c2b",
   "metadata": {},
   "outputs": [],
   "source": [
    "SELECT customer_name, SUM(purchase_amount) AS total_purchase\n",
    "FROM Orders\n",
    "GROUP BY customer_name\n",
    "ORDER BY total_purchase DESC\n",
    "LIMIT 5;\n"
   ]
  },
  {
   "cell_type": "code",
   "execution_count": null,
   "id": "7585ca24",
   "metadata": {},
   "outputs": [],
   "source": [
    "8. Write an SQL query to calculate the percentage of sales for each product category in a table named \"Sales\" and display the category name, total sales amount, and the percentage of total sales."
   ]
  },
  {
   "cell_type": "code",
   "execution_count": null,
   "id": "3ecc7f41",
   "metadata": {},
   "outputs": [],
   "source": [
    "SELECT category_name, SUM(sales_amount) AS total_sales,\n",
    "       (SUM(sales_amount) / (SELECT SUM(sales_amount) FROM Sales)) * 100 AS sales_percentage\n",
    "FROM Sales\n",
    "GROUP BY category_name;\n"
   ]
  },
  {
   "cell_type": "code",
   "execution_count": null,
   "id": "2a5d3569",
   "metadata": {},
   "outputs": [],
   "source": [
    "9. Write an SQL query to find the customers who have made the highest total purchases across all years from a table named \"Orders\" and display their names, email addresses, and the total purchase amount.\n"
   ]
  },
  {
   "cell_type": "code",
   "execution_count": null,
   "id": "ee339b37",
   "metadata": {},
   "outputs": [],
   "source": [
    "SELECT o.customer_name, o.customer_email, SUM(o.purchase_amount) AS total_purchase\n",
    "FROM Orders o\n",
    "GROUP BY o.customer_name, o.customer_email\n",
    "ORDER BY total_purchase DESC\n",
    "LIMIT 1;\n"
   ]
  }
 ],
 "metadata": {
  "kernelspec": {
   "display_name": "Python 3 (ipykernel)",
   "language": "python",
   "name": "python3"
  },
  "language_info": {
   "codemirror_mode": {
    "name": "ipython",
    "version": 3
   },
   "file_extension": ".py",
   "mimetype": "text/x-python",
   "name": "python",
   "nbconvert_exporter": "python",
   "pygments_lexer": "ipython3",
   "version": "3.10.9"
  }
 },
 "nbformat": 4,
 "nbformat_minor": 5
}
