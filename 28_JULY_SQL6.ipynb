{
 "cells": [
  {
   "cell_type": "code",
   "execution_count": null,
   "id": "4d97ec0f",
   "metadata": {},
   "outputs": [],
   "source": [
    "1. Working with RDDs:\n",
    "   a) Write a Python program to create an RDD from a local data source.\n",
    "   b) Implement transformations and actions on the RDD to perform data processing tasks.\n",
    "   c) Analyze and manipulate data using RDD operations such as map, filter, reduce, or aggregate.\n",
    "\n"
   ]
  },
  {
   "cell_type": "code",
   "execution_count": null,
   "id": "e3e2fe49",
   "metadata": {},
   "outputs": [],
   "source": [
    "from pyspark import SparkContext\n",
    "\n",
    "# Create SparkContext\n",
    "sc = SparkContext(appName=\"RDD Example\")\n",
    "\n",
    "# Create RDD from a local data source\n",
    "data = [1, 2, 3, 4, 5]\n",
    "rdd = sc.parallelize(data)\n",
    "\n",
    "# Display the RDD\n",
    "rdd.collect()\n",
    "\n",
    "# Close SparkContext\n",
    "sc.stop()\n",
    "# to transform each element in the RDD using the map() transformation:\n",
    "squared_rdd = rdd.map(lambda x: x**2)\n",
    "squared_rdd.collect()\n",
    "#To filter the RDD based on a condition using the filter() transformation:\n",
    "filtered_rdd = rdd.filter(lambda x: x > 3)\n",
    "filtered_rdd.collect()\n",
    "# to calculate the sum of all elements in the RDD using reduce():\n",
    "sum_result = rdd.reduce(lambda x, y: x + y)\n",
    "#To calculate the average of the elements in the RDD using reduce() and count():\n",
    "sum_result = rdd.reduce(lambda x, y: x + y)\n",
    "count = rdd.count()\n",
    "average = sum_result / count\n",
    "\n"
   ]
  },
  {
   "cell_type": "code",
   "execution_count": null,
   "id": "22e432f1",
   "metadata": {},
   "outputs": [],
   "source": [
    "\n",
    "2. Spark DataFrame Operations:\n",
    "   a) Write a Python program to load a CSV file into a Spark DataFrame.\n",
    "   b)Perform common DataFrame operations such as filtering, grouping, or joining.\n",
    "   c) Apply Spark SQL queries on the DataFrame to extract insights from the data.\n",
    "\n"
   ]
  },
  {
   "cell_type": "code",
   "execution_count": null,
   "id": "7df55c06",
   "metadata": {},
   "outputs": [],
   "source": [
    "from pyspark.sql import SparkSession\n",
    "\n",
    "# Create SparkSession\n",
    "spark = SparkSession.builder \\\n",
    "    .appName(\"Spark DataFrame Example\") \\\n",
    "    .getOrCreate()\n",
    "\n",
    "# Load CSV file into DataFrame\n",
    "csv_path = \"/path/to/file.csv\"\n",
    "df = spark.read.format(\"csv\").option(\"header\", \"true\").load(csv_path)\n",
    "\n",
    "# Display the DataFrame\n",
    "df.show()\n",
    "\n",
    "# Close SparkSession\n",
    "spark.stop()\n"
   ]
  },
  {
   "cell_type": "code",
   "execution_count": null,
   "id": "00f3475a",
   "metadata": {},
   "outputs": [],
   "source": [
    "3. Spark Streaming:\n",
    "  a) Write a Python program to create a Spark Streaming application.\n",
    "   b) Configure the application to consume data from a streaming source (e.g., Kafka or a socket).\n",
    "   c) Implement streaming transformations and actions to process and analyze the incoming data stream.\n"
   ]
  },
  {
   "cell_type": "code",
   "execution_count": null,
   "id": "39c3cd06",
   "metadata": {},
   "outputs": [],
   "source": [
    "from pyspark.streaming import StreamingContext\n",
    "from pyspark.streaming.kafka import KafkaUtils\n",
    "\n",
    "# Create StreamingContext with a batch interval of 1 second\n",
    "ssc = StreamingContext(spark.sparkContext, 1)\n",
    "\n",
    "# Configure Kafka parameters\n",
    "kafka_params = {\n",
    "    \"bootstrap.servers\": \"localhost:9092\",\n",
    "    \"group.id\": \"my-streaming-app\",\n",
    "    \"auto.offset.reset\": \"latest\"\n",
    "}\n",
    "\n",
    "# Create a DStream by consuming data from Kafka topic\n",
    "kafka_stream = KafkaUtils.createDirectStream(ssc, [\"my-topic\"], kafka_params)\n",
    "\n",
    "# Process and analyze the incoming data stream\n",
    "processed_stream = kafka_stream.map(lambda record: record.value)  # Extract value from Kafka record\n",
    "processed_stream.pprint()  # Print the processed stream to console\n",
    "\n",
    "# Start the streaming context\n",
    "ssc.start()\n",
    "ssc.awaitTermination()\n"
   ]
  },
  {
   "cell_type": "code",
   "execution_count": null,
   "id": "5238ba23",
   "metadata": {},
   "outputs": [],
   "source": [
    "4. Spark SQL and Data Source Integration:\n",
    "   a) Write a Python program to connect Spark with a relational database (e.g., MySQL, PostgreSQL).\n",
    "   b)Perform SQL operations on the data stored in the database using Spark SQL.\n",
    "   c) Explore the integration capabilities of Spark with other data sources, such as Hadoop Distributed File System (HDFS) or Amazon S3.\n",
    "\n",
    "\n"
   ]
  },
  {
   "cell_type": "code",
   "execution_count": null,
   "id": "6946521d",
   "metadata": {},
   "outputs": [],
   "source": [
    "from pyspark.sql import SparkSession\n",
    "\n",
    "# Create SparkSession\n",
    "spark = SparkSession.builder \\\n",
    "    .appName(\"Spark MySQL Example\") \\\n",
    "    .config(\"spark.driver.extraClassPath\", \"/path/to/mysql-connector-java.jar\") \\\n",
    "    .getOrCreate()\n",
    "\n",
    "# MySQL configuration\n",
    "jdbc_url = \"jdbc:mysql://localhost:3306/mydatabase\"\n",
    "connection_properties = {\n",
    "    \"user\": \"username\",\n",
    "    \"password\": \"password\",\n",
    "    \"driver\": \"com.mysql.jdbc.Driver\"\n",
    "}\n",
    "\n",
    "# Read data from MySQL table\n",
    "df = spark.read.jdbc(jdbc_url, \"table_name\", properties=connection_properties)\n",
    "\n",
    "# Perform Spark SQL operations on the data\n",
    "df.createOrReplaceTempView(\"my_table\")\n",
    "result = spark.sql(\"SELECT * FROM my_table WHERE ...\")\n",
    "\n",
    "# Display the result\n",
    "result.show()\n",
    "\n",
    "# Close SparkSession\n",
    "spark.stop()\n"
   ]
  },
  {
   "cell_type": "code",
   "execution_count": null,
   "id": "c2bf1d4c",
   "metadata": {},
   "outputs": [],
   "source": []
  }
 ],
 "metadata": {
  "kernelspec": {
   "display_name": "Python 3 (ipykernel)",
   "language": "python",
   "name": "python3"
  },
  "language_info": {
   "codemirror_mode": {
    "name": "ipython",
    "version": 3
   },
   "file_extension": ".py",
   "mimetype": "text/x-python",
   "name": "python",
   "nbconvert_exporter": "python",
   "pygments_lexer": "ipython3",
   "version": "3.10.9"
  }
 },
 "nbformat": 4,
 "nbformat_minor": 5
}
